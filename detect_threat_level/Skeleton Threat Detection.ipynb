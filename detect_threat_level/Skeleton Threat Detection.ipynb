{
 "cells": [
  {
   "cell_type": "markdown",
   "metadata": {},
   "source": [
    "# Skeleton Threat Detection"
   ]
  },
  {
   "cell_type": "code",
   "execution_count": 1,
   "metadata": {},
   "outputs": [],
   "source": [
    "import time\n",
    "import numpy as np\n",
    "import tensorflow as tf\n",
    "from os import listdir\n",
    "from os.path import isfile, join\n",
    "from sklearn.model_selection import train_test_split\n",
    "from sklearn.metrics import confusion_matrix\n",
    "\n",
    "# Notebook auto reloads code. (Ref: http://stackoverflow.com/questions/1907993/autoreload-of-modules-in-ipython)\n",
    "%load_ext autoreload\n",
    "%autoreload 2"
   ]
  },
  {
   "cell_type": "markdown",
   "metadata": {},
   "source": [
    "# Part 1: Load Data"
   ]
  },
  {
   "cell_type": "code",
   "execution_count": 2,
   "metadata": {},
   "outputs": [
    {
     "name": "stdout",
     "output_type": "stream",
     "text": [
      "[[6.90056183e-310 4.65021121e-310]\n",
      " [6.90056199e-310 6.90050599e-310]\n",
      " [6.90056199e-310 6.90055463e-310]\n",
      " [6.90056199e-310 4.65020820e-310]\n",
      " [6.90055469e-310 4.65020820e-310]\n",
      " [4.65020820e-310 6.90056203e-310]\n",
      " [6.90056015e-310 6.90055470e-310]\n",
      " [6.90056205e-310 6.90056096e-310]\n",
      " [6.90050600e-310 6.90056203e-310]]\n",
      "(1549, 18)\n",
      "(1549,)\n",
      "[-1.14879715 -1.0680207  -0.50251734 -1.15777564  0.          0.\n",
      "  0.43987265  0.8980602  -1.73252392 -0.94244558 -1.82236588  0.10790823\n",
      " -1.80436289  0.52977294 -0.84384251  0.57481354 -1.58882546  0.55679184]\n"
     ]
    }
   ],
   "source": [
    "x = np.empty((1,9,2))\n",
    "rele_dexes = [1,2,3,4,5,6,7,9,12]\n",
    "right_elbow = 3\n",
    "right_wrist = 4\n",
    "folders = [\"High_ordered/keypoints/\", \"Medium_ordered/keypoints/\", \"Low_ordered/keypoints/\"]\n",
    "threats = [0,1,2]\n",
    "y = []\n",
    "last_count = 0\n",
    "for folder in range(len(folders)):\n",
    "    for f in listdir(folders[folder]):\n",
    "        skeletons = np.load(folders[folder]+f)\n",
    "        if skeletons.size != 1:\n",
    "            for skele in skeletons:\n",
    "                if skele[rele_dexes].all() > .0001:\n",
    "                    skele[:,0:2] -= skele[right_elbow,0:2]\n",
    "                    forearm_len = np.sqrt(skele[right_wrist][0]**2+skele[right_wrist][1]**2)\n",
    "                    skele[:,0:2] /= forearm_len\n",
    "                    x = np.vstack((x,np.expand_dims(skele[rele_dexes,0:2],axis=0)))\n",
    "    y = np.concatenate((y,[threats[folder]]*(x.shape[0]-last_count)))\n",
    "    last_count = x.shape[0]\n",
    "                    \n",
    "x = x.reshape([x.shape[0],x.shape[1]*x.shape[2]])\n",
    "\n",
    "        \n",
    "print(x.shape)\n",
    "print(y.shape)\n",
    "print(x[-1])"
   ]
  },
  {
   "cell_type": "code",
   "execution_count": 3,
   "metadata": {},
   "outputs": [
    {
     "name": "stdout",
     "output_type": "stream",
     "text": [
      "(1316, 18)\n",
      "(233, 18)\n",
      "1316\n",
      "233\n"
     ]
    }
   ],
   "source": [
    "train_x, test_x, train_y, test_y = train_test_split(x,y,test_size=.15)\n",
    "\n",
    "oh_train_y = np.array(train_y,dtype=np.int64)\n",
    "num_labels = len(np.unique(oh_train_y))\n",
    "oh_train_y = np.eye(num_labels)[oh_train_y]\n",
    "\n",
    "oh_test_y = np.array(test_y,dtype=np.int64)\n",
    "num_labels = len(np.unique(oh_test_y))\n",
    "oh_test_y = np.eye(num_labels)[oh_test_y]\n",
    "\n",
    "print(train_x.shape)\n",
    "print(test_x.shape)\n",
    "print(len(oh_train_y))\n",
    "print(len(oh_test_y))\n",
    "\n",
    "# columns: x, y, confidence\n",
    "# https://github.com/CMU-Perceptual-Computing-Lab/openpose/blob/master/doc/output.md"
   ]
  },
  {
   "cell_type": "markdown",
   "metadata": {},
   "source": [
    "# Create and Train Model"
   ]
  },
  {
   "cell_type": "code",
   "execution_count": 4,
   "metadata": {},
   "outputs": [],
   "source": [
    "from feedforward_model import *"
   ]
  },
  {
   "cell_type": "code",
   "execution_count": 5,
   "metadata": {},
   "outputs": [
    {
     "name": "stdout",
     "output_type": "stream",
     "text": [
      "WARNING:tensorflow:From /home/user1/threat_detection/threat_detection/feedforward_model.py:58: dense (from tensorflow.python.layers.core) is deprecated and will be removed in a future version.\n",
      "Instructions for updating:\n",
      "Use keras.layers.dense instead.\n",
      "WARNING:tensorflow:From /home/user1/anaconda3/lib/python3.7/site-packages/tensorflow/python/framework/op_def_library.py:263: colocate_with (from tensorflow.python.framework.ops) is deprecated and will be removed in a future version.\n",
      "Instructions for updating:\n",
      "Colocations handled automatically by placer.\n",
      "WARNING:tensorflow:From /home/user1/threat_detection/threat_detection/feedforward_model.py:60: dropout (from tensorflow.python.layers.core) is deprecated and will be removed in a future version.\n",
      "Instructions for updating:\n",
      "Use keras.layers.dropout instead.\n",
      "WARNING:tensorflow:From /home/user1/threat_detection/threat_detection/feedforward_model.py:80: softmax_cross_entropy_with_logits (from tensorflow.python.ops.nn_ops) is deprecated and will be removed in a future version.\n",
      "Instructions for updating:\n",
      "\n",
      "Future major versions of TensorFlow will allow gradients to flow\n",
      "into the labels input on backprop by default.\n",
      "\n",
      "See `tf.nn.softmax_cross_entropy_with_logits_v2`.\n",
      "\n"
     ]
    }
   ],
   "source": [
    "model = feedforward(x.shape[1],len(threats),hidden_layer_size=[8],learning_rate=.0025,train_keep_prob=[.5])"
   ]
  },
  {
   "cell_type": "code",
   "execution_count": 6,
   "metadata": {},
   "outputs": [
    {
     "name": "stdout",
     "output_type": "stream",
     "text": [
      "number of batches for training: 20\n",
      "epoch 1\n",
      "epoch 2\n",
      "Best validation accuracy! iteration:25 accuracy: 48.497854077253216%\n",
      "epoch 3\n",
      "Best validation accuracy! iteration:50 accuracy: 56.22317596566524%\n",
      "epoch 4\n",
      "Best validation accuracy! iteration:75 accuracy: 63.94849785407726%\n",
      "epoch 5\n",
      "Best validation accuracy! iteration:100 accuracy: 66.09442060085837%\n",
      "epoch 6\n",
      "epoch 7\n",
      "Best validation accuracy! iteration:125 accuracy: 66.52360515021459%\n",
      "epoch 8\n",
      "epoch 9\n",
      "epoch 10\n",
      "epoch 11\n",
      "epoch 12\n",
      "epoch 13\n",
      "Best validation accuracy! iteration:250 accuracy: 66.95278969957081%\n",
      "epoch 14\n",
      "Best validation accuracy! iteration:275 accuracy: 67.81115879828327%\n",
      "epoch 15\n",
      "Best validation accuracy! iteration:300 accuracy: 68.24034334763948%\n",
      "epoch 16\n",
      "epoch 17\n",
      "Best validation accuracy! iteration:325 accuracy: 69.09871244635193%\n",
      "epoch 18\n",
      "epoch 19\n",
      "epoch 20\n",
      "Best validation accuracy! iteration:400 accuracy: 69.52789699570815%\n",
      "epoch 21\n",
      "epoch 22\n",
      "epoch 23\n",
      "epoch 24\n",
      "Best validation accuracy! iteration:475 accuracy: 70.3862660944206%\n",
      "epoch 25\n",
      "Best validation accuracy! iteration:500 accuracy: 70.81545064377683%\n",
      "epoch 26\n",
      "epoch 27\n",
      "epoch 28\n",
      "epoch 29\n",
      "Best validation accuracy! iteration:575 accuracy: 71.24463519313305%\n",
      "epoch 30\n",
      "Traning ends. The best valid accuracy is 71.24463519313305. Model named basic_model.\n"
     ]
    }
   ],
   "source": [
    "model.train(train_x,oh_train_y,test_x,oh_test_y,epochs=30,batch_size=64)"
   ]
  },
  {
   "cell_type": "code",
   "execution_count": 7,
   "metadata": {},
   "outputs": [
    {
     "data": {
      "image/png": "[encoded data removed]",
      "text/plain": [
       "<Figure size 432x288 with 1 Axes>"
      ]
     },
     "metadata": {
      "needs_background": "light"
     },
     "output_type": "display_data"
    }
   ],
   "source": [
    "model.plot()"
   ]
  },
  {
   "cell_type": "code",
   "execution_count": 8,
   "metadata": {},
   "outputs": [
    {
     "name": "stdout",
     "output_type": "stream",
     "text": [
      "WARNING:tensorflow:From /home/user1/anaconda3/lib/python3.7/site-packages/tensorflow/python/training/saver.py:1266: checkpoint_exists (from tensorflow.python.training.checkpoint_management) is deprecated and will be removed in a future version.\n",
      "Instructions for updating:\n",
      "Use standard file APIs to check for files with this prefix.\n",
      "INFO:tensorflow:Restoring parameters from model/basic_model\n",
      "Predicted label is  low\n",
      "Actual label is  low\n"
     ]
    }
   ],
   "source": [
    "labels = np.array(['high','med','low'])\n",
    "test = np.reshape(test_x[0],(1,len(test_x[0])))\n",
    "prediction = model.predict(test)\n",
    "print(\"Predicted label is \", labels[prediction[0][0]])\n",
    "tested_y = np.ndarray.astype(oh_test_y[0],bool)\n",
    "print(\"Actual label is \",labels[tested_y][0])"
   ]
  },
  {
   "cell_type": "code",
   "execution_count": 9,
   "metadata": {},
   "outputs": [
    {
     "name": "stdout",
     "output_type": "stream",
     "text": [
      "INFO:tensorflow:Restoring parameters from model/basic_model\n",
      "[[78  2 19]\n",
      " [12  4 24]\n",
      " [ 7  3 84]]\n",
      "[[78.78788    2.020202  19.19192  ]\n",
      " [30.000002  10.        60.000004 ]\n",
      " [ 7.4468083  3.1914895 89.3617   ]]\n"
     ]
    }
   ],
   "source": [
    "predictions = model.predict(test_x)\n",
    "conf_mat = confusion_matrix(test_y,predictions[0])\n",
    "print(conf_mat)\n",
    "prob = np.empty(conf_mat.shape,dtype=np.float32)\n",
    "for i in range(conf_mat.shape[0]):\n",
    "    prob[i] = np.divide(conf_mat[i],sum(conf_mat[i]))\n",
    "    \n",
    "print(prob*100)"
   ]
  },
  {
   "cell_type": "code",
   "execution_count": null,
   "metadata": {},
   "outputs": [],
   "source": []
  }
 ],
 "metadata": {
  "kernelspec": {
   "display_name": "Python 3",
   "language": "python",
   "name": "python3"
  },
  "language_info": {
   "codemirror_mode": {
    "name": "ipython",
    "version": 3
   },
   "file_extension": ".py",
   "mimetype": "text/x-python",
   "name": "python",
   "nbconvert_exporter": "python",
   "pygments_lexer": "ipython3",
   "version": "3.7.1"
  }
 },
 "nbformat": 4,
 "nbformat_minor": 2
}
